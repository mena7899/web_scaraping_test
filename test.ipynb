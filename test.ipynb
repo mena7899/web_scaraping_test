{
 "cells": [
  {
   "cell_type": "markdown",
   "metadata": {},
   "source": [
    "# 1. Web Scraping Basics (10 points)"
   ]
  },
  {
   "cell_type": "markdown",
   "metadata": {},
   "source": [
    "#### - web scarping is the process of collecting large amout of data from websites in an automated way by writing scripts to extract the data from the HTML code.\n",
    "#### - as any project we should be driven by the our goal and ask the proper questions what kind of data we need? where we can find it? then we move to the execution process and extract the data form the sources to our platform."
   ]
  },
  {
   "cell_type": "markdown",
   "metadata": {},
   "source": [
    "# 2. Python Coding (10 points)\n",
    "## ambassadors of the kingdom of saudi arabia form wikipedia"
   ]
  },
  {
   "cell_type": "code",
   "execution_count": 58,
   "metadata": {},
   "outputs": [],
   "source": [
    "from bs4 import BeautifulSoup as bs\n",
    "import requests as r\n",
    "import pandas as pd\n",
    "\n",
    "dics=[]"
   ]
  },
  {
   "cell_type": "code",
   "execution_count": 59,
   "metadata": {},
   "outputs": [],
   "source": [
    "source=r.get(\"https://ar.wikipedia.org/wiki/%D9%82%D8%A7%D8%A6%D9%85%D8%A9_%D8%B3%D9%81%D8%B1%D8%A7%D8%A1_%D8%A7%D9%84%D8%B3%D8%B9%D9%88%D8%AF%D9%8A%D8%A9\")"
   ]
  },
  {
   "cell_type": "code",
   "execution_count": 63,
   "metadata": {},
   "outputs": [],
   "source": [
    "page=source.content\n",
    "soup=bs(page,\"lxml\")"
   ]
  },
  {
   "cell_type": "code",
   "execution_count": 64,
   "metadata": {},
   "outputs": [],
   "source": [
    "target=soup"
   ]
  },
  {
   "cell_type": "code",
   "execution_count": 65,
   "metadata": {},
   "outputs": [],
   "source": [
    "for i in range(len(target.findAll(\"table\",class_=\"wikitable sortable\"))):\n",
    "    for ii in range(len(target.findAll(\"table\",class_=\"wikitable sortable\")[i].find_all(\"tr\"))):\n",
    "        if ii ==0:\n",
    "            pass\n",
    "        else:\n",
    "            name=target.findAll(\"table\",class_=\"wikitable sortable\")[i].find_all(\"tr\")[ii].find_all(\"td\")[0].text.replace(\"\\n\",\"\")\n",
    "            country=target.findAll(\"table\",class_=\"wikitable sortable\")[i].find_all(\"tr\")[ii].find_all(\"td\")[1].text.replace(\"\\n\",\"\")\n",
    "            rep_level=target.findAll(\"table\",class_=\"wikitable sortable\")[i].find_all(\"tr\")[ii].find_all(\"td\")[3].text.replace(\"\\n\",\"\")\n",
    "            dics.append({\"الاسم\":name,\"الدولة\":country,\"مستوى التمثيل\":rep_level})"
   ]
  },
  {
   "cell_type": "code",
   "execution_count": 66,
   "metadata": {},
   "outputs": [
    {
     "data": {
      "text/html": [
       "<div>\n",
       "<style scoped>\n",
       "    .dataframe tbody tr th:only-of-type {\n",
       "        vertical-align: middle;\n",
       "    }\n",
       "\n",
       "    .dataframe tbody tr th {\n",
       "        vertical-align: top;\n",
       "    }\n",
       "\n",
       "    .dataframe thead th {\n",
       "        text-align: right;\n",
       "    }\n",
       "</style>\n",
       "<table border=\"1\" class=\"dataframe\">\n",
       "  <thead>\n",
       "    <tr style=\"text-align: right;\">\n",
       "      <th></th>\n",
       "      <th>الاسم</th>\n",
       "      <th>الدولة</th>\n",
       "      <th>مستوى التمثيل</th>\n",
       "    </tr>\n",
       "  </thead>\n",
       "  <tbody>\n",
       "    <tr>\n",
       "      <th>0</th>\n",
       "      <td>وليد مقيم بخاري</td>\n",
       "      <td>لبنان</td>\n",
       "      <td>سفير</td>\n",
       "    </tr>\n",
       "    <tr>\n",
       "      <th>1</th>\n",
       "      <td>تركي بن عبد الله الدخيل</td>\n",
       "      <td>الإمارات العربية المتحدة</td>\n",
       "      <td>سفير</td>\n",
       "    </tr>\n",
       "    <tr>\n",
       "      <th>2</th>\n",
       "      <td>عبدالله بن منصور المطوع</td>\n",
       "      <td>الإمارات العربية المتحدة</td>\n",
       "      <td>قنصل عام</td>\n",
       "    </tr>\n",
       "    <tr>\n",
       "      <th>3</th>\n",
       "      <td>مساعد بن سليمان المرواني</td>\n",
       "      <td>نيبال</td>\n",
       "      <td>سفير</td>\n",
       "    </tr>\n",
       "    <tr>\n",
       "      <th>4</th>\n",
       "      <td>إبراهيم بن راضي الراضي</td>\n",
       "      <td>قيرغيزستان</td>\n",
       "      <td>سفير</td>\n",
       "    </tr>\n",
       "    <tr>\n",
       "      <th>...</th>\n",
       "      <td>...</td>\n",
       "      <td>...</td>\n",
       "      <td>...</td>\n",
       "    </tr>\n",
       "    <tr>\n",
       "      <th>168</th>\n",
       "      <td>زهير محمد الإدريسي</td>\n",
       "      <td>منظمة التعاون الإسلامي</td>\n",
       "      <td>المندوب الدائم</td>\n",
       "    </tr>\n",
       "    <tr>\n",
       "      <th>169</th>\n",
       "      <td>أسامة نقلي</td>\n",
       "      <td>جامعة الدول العربية</td>\n",
       "      <td>المندوب الدائم</td>\n",
       "    </tr>\n",
       "    <tr>\n",
       "      <th>170</th>\n",
       "      <td>عبد العزيز الواصل</td>\n",
       "      <td>الأمم المتحدة</td>\n",
       "      <td>المندوب الدائم</td>\n",
       "    </tr>\n",
       "    <tr>\n",
       "      <th>171</th>\n",
       "      <td>إبراهيم البلوي</td>\n",
       "      <td>اليونيسكو</td>\n",
       "      <td>المندوب الدائم</td>\n",
       "    </tr>\n",
       "    <tr>\n",
       "      <th>172</th>\n",
       "      <td>هيفاء بنت عبدالرحمن الجديع</td>\n",
       "      <td>الاتحاد الأوروبي - الجمعية الأوروبية للطاقة ال...</td>\n",
       "      <td>سفير</td>\n",
       "    </tr>\n",
       "  </tbody>\n",
       "</table>\n",
       "<p>173 rows × 3 columns</p>\n",
       "</div>"
      ],
      "text/plain": [
       "                          الاسم  \\\n",
       "0               وليد مقيم بخاري   \n",
       "1       تركي بن عبد الله الدخيل   \n",
       "2      عبدالله بن منصور المطوع    \n",
       "3      مساعد بن سليمان المرواني   \n",
       "4        إبراهيم بن راضي الراضي   \n",
       "..                          ...   \n",
       "168          زهير محمد الإدريسي   \n",
       "169                  أسامة نقلي   \n",
       "170           عبد العزيز الواصل   \n",
       "171              إبراهيم البلوي   \n",
       "172  هيفاء بنت عبدالرحمن الجديع   \n",
       "\n",
       "                                                الدولة   مستوى التمثيل  \n",
       "0                                                لبنان            سفير  \n",
       "1                             الإمارات العربية المتحدة            سفير  \n",
       "2                             الإمارات العربية المتحدة        قنصل عام  \n",
       "3                                                نيبال            سفير  \n",
       "4                                           قيرغيزستان            سفير  \n",
       "..                                                 ...             ...  \n",
       "168                             منظمة التعاون الإسلامي  المندوب الدائم  \n",
       "169                                جامعة الدول العربية  المندوب الدائم  \n",
       "170                                      الأمم المتحدة  المندوب الدائم  \n",
       "171                                          اليونيسكو  المندوب الدائم  \n",
       "172  الاتحاد الأوروبي - الجمعية الأوروبية للطاقة ال...            سفير  \n",
       "\n",
       "[173 rows x 3 columns]"
      ]
     },
     "execution_count": 66,
     "metadata": {},
     "output_type": "execute_result"
    }
   ],
   "source": [
    "pd.DataFrame(dics)"
   ]
  },
  {
   "cell_type": "markdown",
   "metadata": {},
   "source": [
    "# 3. Regular Expressions (10 points)"
   ]
  },
  {
   "cell_type": "code",
   "execution_count": 67,
   "metadata": {},
   "outputs": [],
   "source": [
    "import re"
   ]
  },
  {
   "cell_type": "code",
   "execution_count": 68,
   "metadata": {},
   "outputs": [],
   "source": [
    "smaple_text=\"some +966512345678 test 0512345678 text\""
   ]
  },
  {
   "cell_type": "code",
   "execution_count": 69,
   "metadata": {},
   "outputs": [],
   "source": [
    "def find_phone_num(text):\n",
    "    text=re.sub(\"[\\s\\+]\",\"\",text)\n",
    "    res=re.findall(r'9665[0-9]{8}|05[0-9]{8}',text)\n",
    "    ##res=re.findall(r'\\+9665[0-9]{8}|05[0-9]{8}',text) ##in case not dropping the plus sign\n",
    "    return res"
   ]
  },
  {
   "cell_type": "code",
   "execution_count": 70,
   "metadata": {},
   "outputs": [
    {
     "data": {
      "text/plain": [
       "['966512345678', '0512345678']"
      ]
     },
     "execution_count": 70,
     "metadata": {},
     "output_type": "execute_result"
    }
   ],
   "source": [
    "find_phone_num(smaple_text)"
   ]
  },
  {
   "cell_type": "markdown",
   "metadata": {},
   "source": [
    "# 4. Data Cleaning Techniques (10 points)"
   ]
  },
  {
   "cell_type": "markdown",
   "metadata": {},
   "source": [
    "### 1-Remove duplicates and hadling nulls"
   ]
  },
  {
   "cell_type": "code",
   "execution_count": 71,
   "metadata": {},
   "outputs": [],
   "source": [
    "import pandas as pd\n",
    "\n",
    "data = {\n",
    "    \"A\": [\"TeamA\", \"TeamB\", \"TeamB\", \"TeamC\", \"TeamA\"],\n",
    "    \"B\": [50, 40, 40, \"30\", 50],\n",
    "    \"C\": [True, False, False, False, True]\n",
    "}\n",
    "df = pd.DataFrame(data)"
   ]
  },
  {
   "cell_type": "code",
   "execution_count": 72,
   "metadata": {},
   "outputs": [
    {
     "data": {
      "text/html": [
       "<div>\n",
       "<style scoped>\n",
       "    .dataframe tbody tr th:only-of-type {\n",
       "        vertical-align: middle;\n",
       "    }\n",
       "\n",
       "    .dataframe tbody tr th {\n",
       "        vertical-align: top;\n",
       "    }\n",
       "\n",
       "    .dataframe thead th {\n",
       "        text-align: right;\n",
       "    }\n",
       "</style>\n",
       "<table border=\"1\" class=\"dataframe\">\n",
       "  <thead>\n",
       "    <tr style=\"text-align: right;\">\n",
       "      <th></th>\n",
       "      <th>A</th>\n",
       "      <th>B</th>\n",
       "      <th>C</th>\n",
       "    </tr>\n",
       "  </thead>\n",
       "  <tbody>\n",
       "    <tr>\n",
       "      <th>0</th>\n",
       "      <td>TeamA</td>\n",
       "      <td>50</td>\n",
       "      <td>True</td>\n",
       "    </tr>\n",
       "    <tr>\n",
       "      <th>1</th>\n",
       "      <td>TeamB</td>\n",
       "      <td>40</td>\n",
       "      <td>False</td>\n",
       "    </tr>\n",
       "    <tr>\n",
       "      <th>2</th>\n",
       "      <td>TeamB</td>\n",
       "      <td>40</td>\n",
       "      <td>False</td>\n",
       "    </tr>\n",
       "    <tr>\n",
       "      <th>3</th>\n",
       "      <td>TeamC</td>\n",
       "      <td>30</td>\n",
       "      <td>False</td>\n",
       "    </tr>\n",
       "    <tr>\n",
       "      <th>4</th>\n",
       "      <td>TeamA</td>\n",
       "      <td>50</td>\n",
       "      <td>True</td>\n",
       "    </tr>\n",
       "  </tbody>\n",
       "</table>\n",
       "</div>"
      ],
      "text/plain": [
       "       A   B      C\n",
       "0  TeamA  50   True\n",
       "1  TeamB  40  False\n",
       "2  TeamB  40  False\n",
       "3  TeamC  30  False\n",
       "4  TeamA  50   True"
      ]
     },
     "execution_count": 72,
     "metadata": {},
     "output_type": "execute_result"
    }
   ],
   "source": [
    "df"
   ]
  },
  {
   "cell_type": "code",
   "execution_count": 73,
   "metadata": {},
   "outputs": [
    {
     "data": {
      "text/html": [
       "<div>\n",
       "<style scoped>\n",
       "    .dataframe tbody tr th:only-of-type {\n",
       "        vertical-align: middle;\n",
       "    }\n",
       "\n",
       "    .dataframe tbody tr th {\n",
       "        vertical-align: top;\n",
       "    }\n",
       "\n",
       "    .dataframe thead th {\n",
       "        text-align: right;\n",
       "    }\n",
       "</style>\n",
       "<table border=\"1\" class=\"dataframe\">\n",
       "  <thead>\n",
       "    <tr style=\"text-align: right;\">\n",
       "      <th></th>\n",
       "      <th>A</th>\n",
       "      <th>B</th>\n",
       "      <th>C</th>\n",
       "    </tr>\n",
       "  </thead>\n",
       "  <tbody>\n",
       "    <tr>\n",
       "      <th>0</th>\n",
       "      <td>TeamA</td>\n",
       "      <td>50</td>\n",
       "      <td>True</td>\n",
       "    </tr>\n",
       "    <tr>\n",
       "      <th>1</th>\n",
       "      <td>TeamB</td>\n",
       "      <td>40</td>\n",
       "      <td>False</td>\n",
       "    </tr>\n",
       "    <tr>\n",
       "      <th>3</th>\n",
       "      <td>TeamC</td>\n",
       "      <td>30</td>\n",
       "      <td>False</td>\n",
       "    </tr>\n",
       "  </tbody>\n",
       "</table>\n",
       "</div>"
      ],
      "text/plain": [
       "       A   B      C\n",
       "0  TeamA  50   True\n",
       "1  TeamB  40  False\n",
       "3  TeamC  30  False"
      ]
     },
     "execution_count": 73,
     "metadata": {},
     "output_type": "execute_result"
    }
   ],
   "source": [
    "\n",
    "df.drop_duplicates()"
   ]
  },
  {
   "cell_type": "markdown",
   "metadata": {},
   "source": [
    "### 2-Convert data type"
   ]
  },
  {
   "cell_type": "code",
   "execution_count": 74,
   "metadata": {},
   "outputs": [
    {
     "data": {
      "text/plain": [
       "A    object\n",
       "B    object\n",
       "C      bool\n",
       "dtype: object"
      ]
     },
     "execution_count": 74,
     "metadata": {},
     "output_type": "execute_result"
    }
   ],
   "source": [
    "df.dtypes"
   ]
  },
  {
   "cell_type": "code",
   "execution_count": 75,
   "metadata": {},
   "outputs": [],
   "source": [
    "df[\"B\"]=df[\"B\"].astype(int)"
   ]
  },
  {
   "cell_type": "code",
   "execution_count": 76,
   "metadata": {},
   "outputs": [
    {
     "data": {
      "text/plain": [
       "A    object\n",
       "B     int32\n",
       "C      bool\n",
       "dtype: object"
      ]
     },
     "execution_count": 76,
     "metadata": {},
     "output_type": "execute_result"
    }
   ],
   "source": [
    "df.dtypes"
   ]
  },
  {
   "cell_type": "markdown",
   "metadata": {},
   "source": [
    "### 3-Removing texts from numbers or numbers from text or special characters"
   ]
  },
  {
   "cell_type": "code",
   "execution_count": 77,
   "metadata": {},
   "outputs": [],
   "source": [
    "dic={\n",
    "    \"garbled\":[\"12.3txt\",\"txt123\",\"1t2x3t\",\"t123$xt\",\"1tx@t2\"]\n",
    "\n",
    "}\n",
    "df1=pd.DataFrame(dic)"
   ]
  },
  {
   "cell_type": "code",
   "execution_count": 78,
   "metadata": {},
   "outputs": [
    {
     "data": {
      "text/html": [
       "<div>\n",
       "<style scoped>\n",
       "    .dataframe tbody tr th:only-of-type {\n",
       "        vertical-align: middle;\n",
       "    }\n",
       "\n",
       "    .dataframe tbody tr th {\n",
       "        vertical-align: top;\n",
       "    }\n",
       "\n",
       "    .dataframe thead th {\n",
       "        text-align: right;\n",
       "    }\n",
       "</style>\n",
       "<table border=\"1\" class=\"dataframe\">\n",
       "  <thead>\n",
       "    <tr style=\"text-align: right;\">\n",
       "      <th></th>\n",
       "      <th>garbled</th>\n",
       "    </tr>\n",
       "  </thead>\n",
       "  <tbody>\n",
       "    <tr>\n",
       "      <th>0</th>\n",
       "      <td>12.3txt</td>\n",
       "    </tr>\n",
       "    <tr>\n",
       "      <th>1</th>\n",
       "      <td>txt123</td>\n",
       "    </tr>\n",
       "    <tr>\n",
       "      <th>2</th>\n",
       "      <td>1t2x3t</td>\n",
       "    </tr>\n",
       "    <tr>\n",
       "      <th>3</th>\n",
       "      <td>t123$xt</td>\n",
       "    </tr>\n",
       "    <tr>\n",
       "      <th>4</th>\n",
       "      <td>1tx@t2</td>\n",
       "    </tr>\n",
       "  </tbody>\n",
       "</table>\n",
       "</div>"
      ],
      "text/plain": [
       "   garbled\n",
       "0  12.3txt\n",
       "1   txt123\n",
       "2   1t2x3t\n",
       "3  t123$xt\n",
       "4   1tx@t2"
      ]
     },
     "execution_count": 78,
     "metadata": {},
     "output_type": "execute_result"
    }
   ],
   "source": [
    "df1"
   ]
  },
  {
   "cell_type": "code",
   "execution_count": 80,
   "metadata": {},
   "outputs": [],
   "source": [
    "df1[\"numbs\"]=df1[\"garbled\"].str.extract(\"(\\d+)\")\n",
    "df1[\"all_numbs\"]=df1[\"garbled\"].str.replace(\"[a-z@$]\",\"\",regex=True).astype(float)\n",
    "df1[\"text\"]=df1[\"garbled\"].str.replace(\"(\\d+)\",\"\",regex=True)"
   ]
  },
  {
   "cell_type": "code",
   "execution_count": 81,
   "metadata": {},
   "outputs": [
    {
     "data": {
      "text/html": [
       "<div>\n",
       "<style scoped>\n",
       "    .dataframe tbody tr th:only-of-type {\n",
       "        vertical-align: middle;\n",
       "    }\n",
       "\n",
       "    .dataframe tbody tr th {\n",
       "        vertical-align: top;\n",
       "    }\n",
       "\n",
       "    .dataframe thead th {\n",
       "        text-align: right;\n",
       "    }\n",
       "</style>\n",
       "<table border=\"1\" class=\"dataframe\">\n",
       "  <thead>\n",
       "    <tr style=\"text-align: right;\">\n",
       "      <th></th>\n",
       "      <th>garbled</th>\n",
       "      <th>numbs</th>\n",
       "      <th>all_numbs</th>\n",
       "      <th>text</th>\n",
       "    </tr>\n",
       "  </thead>\n",
       "  <tbody>\n",
       "    <tr>\n",
       "      <th>0</th>\n",
       "      <td>12.3txt</td>\n",
       "      <td>12</td>\n",
       "      <td>12.3</td>\n",
       "      <td>.txt</td>\n",
       "    </tr>\n",
       "    <tr>\n",
       "      <th>1</th>\n",
       "      <td>txt123</td>\n",
       "      <td>123</td>\n",
       "      <td>123.0</td>\n",
       "      <td>txt</td>\n",
       "    </tr>\n",
       "    <tr>\n",
       "      <th>2</th>\n",
       "      <td>1t2x3t</td>\n",
       "      <td>1</td>\n",
       "      <td>123.0</td>\n",
       "      <td>txt</td>\n",
       "    </tr>\n",
       "    <tr>\n",
       "      <th>3</th>\n",
       "      <td>t123$xt</td>\n",
       "      <td>123</td>\n",
       "      <td>123.0</td>\n",
       "      <td>t$xt</td>\n",
       "    </tr>\n",
       "    <tr>\n",
       "      <th>4</th>\n",
       "      <td>1tx@t2</td>\n",
       "      <td>1</td>\n",
       "      <td>12.0</td>\n",
       "      <td>tx@t</td>\n",
       "    </tr>\n",
       "  </tbody>\n",
       "</table>\n",
       "</div>"
      ],
      "text/plain": [
       "   garbled numbs  all_numbs  text\n",
       "0  12.3txt    12       12.3  .txt\n",
       "1   txt123   123      123.0   txt\n",
       "2   1t2x3t     1      123.0   txt\n",
       "3  t123$xt   123      123.0  t$xt\n",
       "4   1tx@t2     1       12.0  tx@t"
      ]
     },
     "execution_count": 81,
     "metadata": {},
     "output_type": "execute_result"
    }
   ],
   "source": [
    "df1"
   ]
  },
  {
   "cell_type": "markdown",
   "metadata": {},
   "source": [
    "# 5. SQL Queries (10 points)"
   ]
  },
  {
   "cell_type": "markdown",
   "metadata": {},
   "source": [
    "DELETE con_main FROM contacts as con_main INNER JOIN contacts as con_sub\n",
    "<br>\n",
    "WHERE\n",
    "<br>\n",
    "con_main.contact_id > con_sub.contact_id AND\n",
    "<br>    \n",
    "con_main.number = con.number;\n"
   ]
  },
  {
   "cell_type": "markdown",
   "metadata": {},
   "source": [
    "# 6. Data Extraction Scenario (15 points)\n",
    "## ministry of finace branches and contacs"
   ]
  },
  {
   "cell_type": "code",
   "execution_count": 82,
   "metadata": {},
   "outputs": [],
   "source": [
    "from bs4 import BeautifulSoup as bs\n",
    "import requests as r\n",
    "import pandas as pd\n",
    "\n",
    "dics=[]"
   ]
  },
  {
   "cell_type": "code",
   "execution_count": 83,
   "metadata": {},
   "outputs": [],
   "source": [
    "source=r.get(\"https://www.mof.gov.sa/help/Pages/BranchesPhonesNumbers.aspx\")\n",
    "page=source.content\n",
    "soup=bs(page,\"lxml\")\n",
    "target=soup.find(\"ul\",class_=\"dfwp-column dfwp-list\").findAll(\"tr\")"
   ]
  },
  {
   "cell_type": "code",
   "execution_count": 84,
   "metadata": {},
   "outputs": [],
   "source": [
    "for i in range(len(target)):\n",
    "    \n",
    "    if i ==0:\n",
    "        pass\n",
    "    else:\n",
    "        branch=target[i].find_all(\"td\")[0].text\n",
    "        phone=target[i].find_all(\"td\")[1].text\n",
    "        land_line=target[i].find_all(\"td\")[2].text\n",
    "        fax=target[i].find_all(\"td\")[3].text\n",
    "        dics.append({\"الفرع\":branch,\"هاتف مباشر\":phone,\"السنترال\":land_line,\"فاكس\":fax})\n"
   ]
  },
  {
   "cell_type": "code",
   "execution_count": 85,
   "metadata": {},
   "outputs": [
    {
     "data": {
      "text/html": [
       "<div>\n",
       "<style scoped>\n",
       "    .dataframe tbody tr th:only-of-type {\n",
       "        vertical-align: middle;\n",
       "    }\n",
       "\n",
       "    .dataframe tbody tr th {\n",
       "        vertical-align: top;\n",
       "    }\n",
       "\n",
       "    .dataframe thead th {\n",
       "        text-align: right;\n",
       "    }\n",
       "</style>\n",
       "<table border=\"1\" class=\"dataframe\">\n",
       "  <thead>\n",
       "    <tr style=\"text-align: right;\">\n",
       "      <th></th>\n",
       "      <th>الفرع</th>\n",
       "      <th>هاتف مباشر</th>\n",
       "      <th>السنترال</th>\n",
       "      <th>فاكس</th>\n",
       "    </tr>\n",
       "  </thead>\n",
       "  <tbody>\n",
       "    <tr>\n",
       "      <th>0</th>\n",
       "      <td>فرع الوزارة بالمنطقة الشرقية</td>\n",
       "      <td>138343868</td>\n",
       "      <td>138331111</td>\n",
       "      <td>138324189</td>\n",
       "    </tr>\n",
       "    <tr>\n",
       "      <th>1</th>\n",
       "      <td>فرع الوزارة بمنطقة الباحة</td>\n",
       "      <td>177251225</td>\n",
       "      <td>177251228</td>\n",
       "      <td>177251222</td>\n",
       "    </tr>\n",
       "    <tr>\n",
       "      <th>2</th>\n",
       "      <td>فرع الوزارة بمنطقة الجوف</td>\n",
       "      <td>146246776</td>\n",
       "      <td>146241855</td>\n",
       "      <td>146240937</td>\n",
       "    </tr>\n",
       "    <tr>\n",
       "      <th>3</th>\n",
       "      <td>فرع الوزارة بمنطقة الحدود الشمالية/عرعر</td>\n",
       "      <td>146621904</td>\n",
       "      <td>146620134</td>\n",
       "      <td>146621904</td>\n",
       "    </tr>\n",
       "    <tr>\n",
       "      <th>4</th>\n",
       "      <td>فرع الوزارة بمنطقة القصيم</td>\n",
       "      <td>163231446</td>\n",
       "      <td>163231447</td>\n",
       "      <td>163231446</td>\n",
       "    </tr>\n",
       "    <tr>\n",
       "      <th>5</th>\n",
       "      <td>فرع الوزارة بمنطقة المدينة المنورة</td>\n",
       "      <td>148467100</td>\n",
       "      <td>148471151</td>\n",
       "      <td>148467100</td>\n",
       "    </tr>\n",
       "    <tr>\n",
       "      <th>6</th>\n",
       "      <td>فرع الوزارة بمنطقة تبوك</td>\n",
       "      <td>144224831</td>\n",
       "      <td>144221438</td>\n",
       "      <td>144224831</td>\n",
       "    </tr>\n",
       "    <tr>\n",
       "      <th>7</th>\n",
       "      <td>فرع الوزارة بمنطقة جازان</td>\n",
       "      <td>0173214260</td>\n",
       "      <td>073214149</td>\n",
       "      <td>0173214267</td>\n",
       "    </tr>\n",
       "    <tr>\n",
       "      <th>8</th>\n",
       "      <td>فرع الوزارة بمنطقة حائل</td>\n",
       "      <td>165321148</td>\n",
       "      <td>165324776</td>\n",
       "      <td>165321148</td>\n",
       "    </tr>\n",
       "    <tr>\n",
       "      <th>9</th>\n",
       "      <td>فرع الوزارة بمنطقة عسير</td>\n",
       "      <td>172296669</td>\n",
       "      <td>172246560</td>\n",
       "      <td>172296669</td>\n",
       "    </tr>\n",
       "    <tr>\n",
       "      <th>10</th>\n",
       "      <td>فرع الوزارة بمنطقة مكة المكرمة / جدة</td>\n",
       "      <td>126617000</td>\n",
       "      <td>126100000</td>\n",
       "      <td>126679705</td>\n",
       "    </tr>\n",
       "    <tr>\n",
       "      <th>11</th>\n",
       "      <td>فرع الوزارة بمنطقة نجران</td>\n",
       "      <td>175221761</td>\n",
       "      <td>175226003</td>\n",
       "      <td>175221761</td>\n",
       "    </tr>\n",
       "    <tr>\n",
       "      <th>12</th>\n",
       "      <td>مكتب الوزارة بمـكة المكرمة</td>\n",
       "      <td>125720881&lt;br&gt;125721239</td>\n",
       "      <td>125738081</td>\n",
       "      <td>125722194</td>\n",
       "    </tr>\n",
       "  </tbody>\n",
       "</table>\n",
       "</div>"
      ],
      "text/plain": [
       "                                      الفرع              هاتف مباشر  \\\n",
       "0              فرع الوزارة بالمنطقة الشرقية               138343868   \n",
       "1                 فرع الوزارة بمنطقة الباحة               177251225   \n",
       "2                  فرع الوزارة بمنطقة الجوف               146246776   \n",
       "3   فرع الوزارة بمنطقة الحدود الشمالية/عرعر               146621904   \n",
       "4                 فرع الوزارة بمنطقة القصيم               163231446   \n",
       "5        فرع الوزارة بمنطقة المدينة المنورة               148467100   \n",
       "6                   فرع الوزارة بمنطقة تبوك               144224831   \n",
       "7                  فرع الوزارة بمنطقة جازان              0173214260   \n",
       "8                   فرع الوزارة بمنطقة حائل               165321148   \n",
       "9                   فرع الوزارة بمنطقة عسير               172296669   \n",
       "10     فرع الوزارة بمنطقة مكة المكرمة / جدة               126617000   \n",
       "11                 فرع الوزارة بمنطقة نجران               175221761   \n",
       "12               مكتب الوزارة بمـكة المكرمة  125720881<br>125721239   \n",
       "\n",
       "     السنترال        فاكس  \n",
       "0   138331111   138324189  \n",
       "1   177251228   177251222  \n",
       "2   146241855   146240937  \n",
       "3   146620134   146621904  \n",
       "4   163231447   163231446  \n",
       "5   148471151   148467100  \n",
       "6   144221438   144224831  \n",
       "7   073214149  0173214267  \n",
       "8   165324776   165321148  \n",
       "9   172246560   172296669  \n",
       "10  126100000   126679705  \n",
       "11  175226003   175221761  \n",
       "12  125738081   125722194  "
      ]
     },
     "execution_count": 85,
     "metadata": {},
     "output_type": "execute_result"
    }
   ],
   "source": [
    "pd.DataFrame(dics)"
   ]
  },
  {
   "cell_type": "markdown",
   "metadata": {},
   "source": [
    "# 7. Data Cleaning Scenario (15 points)"
   ]
  },
  {
   "cell_type": "markdown",
   "metadata": {},
   "source": [
    "### 1-locate null values and find a prper source to fill that nissing data.\n",
    "### 2-drop the duplicated values.\n",
    "### 3-remove the spcial charcters and misplaced numbers as we did in question 4 number 3.\n",
    "### 4-cast the columns to it's suitable type as we did in question 4 number 2."
   ]
  },
  {
   "cell_type": "markdown",
   "metadata": {},
   "source": [
    "# Section 3: Practical Task (20 points)"
   ]
  },
  {
   "cell_type": "markdown",
   "metadata": {},
   "source": [
    "## regarding this part of test please accept my sincere apology as i found https://www.my.gov.sa/ \"المنصة الوطنية الموحدة للخدمات الحكومية\" is inaccessible in egypt"
   ]
  },
  {
   "cell_type": "markdown",
   "metadata": {},
   "source": [
    "![alt text](su-gov.jpg)"
   ]
  },
  {
   "cell_type": "markdown",
   "metadata": {},
   "source": []
  }
 ],
 "metadata": {
  "kernelspec": {
   "display_name": "base",
   "language": "python",
   "name": "python3"
  },
  "language_info": {
   "codemirror_mode": {
    "name": "ipython",
    "version": 3
   },
   "file_extension": ".py",
   "mimetype": "text/x-python",
   "name": "python",
   "nbconvert_exporter": "python",
   "pygments_lexer": "ipython3",
   "version": "3.9.18"
  }
 },
 "nbformat": 4,
 "nbformat_minor": 2
}
